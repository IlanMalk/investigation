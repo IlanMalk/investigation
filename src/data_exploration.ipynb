{
 "cells": [
  {
   "cell_type": "code",
   "execution_count": 13,
   "metadata": {},
   "outputs": [
    {
     "name": "stdout",
     "output_type": "stream",
     "text": [
      "A\n",
      "B\n"
     ]
    }
   ],
   "source": [
    "import csv\n",
    "import pandas as pd\n",
    "from scipy import stats\n",
    "import matplotlib.pyplot\n",
    "import math\n",
    "vader='../vader_full.csv'\n",
    "pjs='../pitch_jitter_shimmer_cluster.csv'\n",
    "\n",
    "file = open(pjs)\n",
    "type(file)\n",
    "print('A')\n",
    "csvreader = csv.reader(file)\n",
    "\n",
    "header = []\n",
    "header = next(csvreader)\n",
    "#print(header)\n",
    "print('B')\n",
    "\n",
    "rows = []\n",
    "for row in csvreader:\n",
    "        rows.append(row)\n",
    "#print(rows)\n",
    "\n",
    "data=pd.read_csv(pjs)\n",
    "\n",
    "f0=data.meanF0.tolist()"
   ]
  },
  {
   "cell_type": "code",
   "execution_count": 8,
   "metadata": {},
   "outputs": [
    {
     "data": {
      "text/html": [
       "<div>\n",
       "<style scoped>\n",
       "    .dataframe tbody tr th:only-of-type {\n",
       "        vertical-align: middle;\n",
       "    }\n",
       "\n",
       "    .dataframe tbody tr th {\n",
       "        vertical-align: top;\n",
       "    }\n",
       "\n",
       "    .dataframe thead th {\n",
       "        text-align: right;\n",
       "    }\n",
       "</style>\n",
       "<table border=\"1\" class=\"dataframe\">\n",
       "  <thead>\n",
       "    <tr style=\"text-align: right;\">\n",
       "      <th></th>\n",
       "      <th>meanF0</th>\n",
       "      <th>stdevF0</th>\n",
       "      <th>hnr</th>\n",
       "      <th>localJitter</th>\n",
       "      <th>localabsoluteJitter</th>\n",
       "      <th>rapJitter</th>\n",
       "      <th>ppq5Jitter</th>\n",
       "      <th>ddpJitter</th>\n",
       "      <th>localShimmer</th>\n",
       "      <th>localdbShimmer</th>\n",
       "      <th>apq3Shimmer</th>\n",
       "      <th>apq5Shimmer</th>\n",
       "      <th>apq11Shimmer</th>\n",
       "      <th>ddaShimmer</th>\n",
       "    </tr>\n",
       "  </thead>\n",
       "  <tbody>\n",
       "    <tr>\n",
       "      <th>0</th>\n",
       "      <td>159.115991</td>\n",
       "      <td>90.317937</td>\n",
       "      <td>3.930253</td>\n",
       "      <td>0.017451</td>\n",
       "      <td>0.000114</td>\n",
       "      <td>0.007141</td>\n",
       "      <td>0.008345</td>\n",
       "      <td>0.021422</td>\n",
       "      <td>0.143444</td>\n",
       "      <td>1.286655</td>\n",
       "      <td>0.074305</td>\n",
       "      <td>0.076339</td>\n",
       "      <td>0.108201</td>\n",
       "      <td>0.222915</td>\n",
       "    </tr>\n",
       "    <tr>\n",
       "      <th>1</th>\n",
       "      <td>129.732058</td>\n",
       "      <td>46.425490</td>\n",
       "      <td>11.773814</td>\n",
       "      <td>0.028977</td>\n",
       "      <td>0.000226</td>\n",
       "      <td>0.010774</td>\n",
       "      <td>0.012563</td>\n",
       "      <td>0.032322</td>\n",
       "      <td>0.101769</td>\n",
       "      <td>0.962262</td>\n",
       "      <td>0.032754</td>\n",
       "      <td>0.051533</td>\n",
       "      <td>0.106229</td>\n",
       "      <td>0.098262</td>\n",
       "    </tr>\n",
       "    <tr>\n",
       "      <th>2</th>\n",
       "      <td>163.427566</td>\n",
       "      <td>83.990485</td>\n",
       "      <td>3.922896</td>\n",
       "      <td>0.018924</td>\n",
       "      <td>0.000120</td>\n",
       "      <td>0.007710</td>\n",
       "      <td>0.008877</td>\n",
       "      <td>0.023129</td>\n",
       "      <td>0.159257</td>\n",
       "      <td>1.418600</td>\n",
       "      <td>0.082433</td>\n",
       "      <td>0.089105</td>\n",
       "      <td>0.117887</td>\n",
       "      <td>0.247300</td>\n",
       "    </tr>\n",
       "    <tr>\n",
       "      <th>3</th>\n",
       "      <td>235.537851</td>\n",
       "      <td>66.925613</td>\n",
       "      <td>15.218010</td>\n",
       "      <td>0.022878</td>\n",
       "      <td>0.000098</td>\n",
       "      <td>0.009476</td>\n",
       "      <td>0.010311</td>\n",
       "      <td>0.028429</td>\n",
       "      <td>0.087603</td>\n",
       "      <td>0.864116</td>\n",
       "      <td>0.027535</td>\n",
       "      <td>0.043341</td>\n",
       "      <td>0.087738</td>\n",
       "      <td>0.082605</td>\n",
       "    </tr>\n",
       "    <tr>\n",
       "      <th>4</th>\n",
       "      <td>125.849238</td>\n",
       "      <td>48.231114</td>\n",
       "      <td>13.037746</td>\n",
       "      <td>0.034310</td>\n",
       "      <td>0.000276</td>\n",
       "      <td>0.013424</td>\n",
       "      <td>0.013310</td>\n",
       "      <td>0.040271</td>\n",
       "      <td>0.091310</td>\n",
       "      <td>0.861513</td>\n",
       "      <td>0.029472</td>\n",
       "      <td>0.044587</td>\n",
       "      <td>0.083962</td>\n",
       "      <td>0.088416</td>\n",
       "    </tr>\n",
       "    <tr>\n",
       "      <th>...</th>\n",
       "      <td>...</td>\n",
       "      <td>...</td>\n",
       "      <td>...</td>\n",
       "      <td>...</td>\n",
       "      <td>...</td>\n",
       "      <td>...</td>\n",
       "      <td>...</td>\n",
       "      <td>...</td>\n",
       "      <td>...</td>\n",
       "      <td>...</td>\n",
       "      <td>...</td>\n",
       "      <td>...</td>\n",
       "      <td>...</td>\n",
       "      <td>...</td>\n",
       "    </tr>\n",
       "    <tr>\n",
       "      <th>196</th>\n",
       "      <td>157.865020</td>\n",
       "      <td>53.341399</td>\n",
       "      <td>8.418544</td>\n",
       "      <td>0.025371</td>\n",
       "      <td>0.000161</td>\n",
       "      <td>0.011912</td>\n",
       "      <td>0.013344</td>\n",
       "      <td>0.035735</td>\n",
       "      <td>0.146225</td>\n",
       "      <td>1.351733</td>\n",
       "      <td>0.060600</td>\n",
       "      <td>0.086115</td>\n",
       "      <td>0.149012</td>\n",
       "      <td>0.181799</td>\n",
       "    </tr>\n",
       "    <tr>\n",
       "      <th>197</th>\n",
       "      <td>256.159708</td>\n",
       "      <td>86.835383</td>\n",
       "      <td>12.550197</td>\n",
       "      <td>0.028736</td>\n",
       "      <td>0.000114</td>\n",
       "      <td>0.013565</td>\n",
       "      <td>0.012467</td>\n",
       "      <td>0.040696</td>\n",
       "      <td>0.142917</td>\n",
       "      <td>1.342853</td>\n",
       "      <td>0.063401</td>\n",
       "      <td>0.091960</td>\n",
       "      <td>0.155509</td>\n",
       "      <td>0.190204</td>\n",
       "    </tr>\n",
       "    <tr>\n",
       "      <th>198</th>\n",
       "      <td>109.195261</td>\n",
       "      <td>25.952571</td>\n",
       "      <td>12.053265</td>\n",
       "      <td>0.032655</td>\n",
       "      <td>0.000300</td>\n",
       "      <td>0.013546</td>\n",
       "      <td>0.015358</td>\n",
       "      <td>0.040639</td>\n",
       "      <td>0.123946</td>\n",
       "      <td>1.143286</td>\n",
       "      <td>0.049693</td>\n",
       "      <td>0.072229</td>\n",
       "      <td>0.124038</td>\n",
       "      <td>0.149080</td>\n",
       "    </tr>\n",
       "    <tr>\n",
       "      <th>199</th>\n",
       "      <td>134.616712</td>\n",
       "      <td>38.706905</td>\n",
       "      <td>10.730626</td>\n",
       "      <td>0.018399</td>\n",
       "      <td>0.000137</td>\n",
       "      <td>0.007975</td>\n",
       "      <td>0.009592</td>\n",
       "      <td>0.023924</td>\n",
       "      <td>0.121832</td>\n",
       "      <td>1.162498</td>\n",
       "      <td>0.046746</td>\n",
       "      <td>0.070983</td>\n",
       "      <td>0.128618</td>\n",
       "      <td>0.140238</td>\n",
       "    </tr>\n",
       "    <tr>\n",
       "      <th>200</th>\n",
       "      <td>177.694494</td>\n",
       "      <td>99.357806</td>\n",
       "      <td>3.942794</td>\n",
       "      <td>0.020172</td>\n",
       "      <td>0.000120</td>\n",
       "      <td>0.008697</td>\n",
       "      <td>0.010025</td>\n",
       "      <td>0.026091</td>\n",
       "      <td>0.183656</td>\n",
       "      <td>1.569627</td>\n",
       "      <td>0.102963</td>\n",
       "      <td>0.112280</td>\n",
       "      <td>0.149872</td>\n",
       "      <td>0.308889</td>\n",
       "    </tr>\n",
       "  </tbody>\n",
       "</table>\n",
       "<p>201 rows × 14 columns</p>\n",
       "</div>"
      ],
      "text/plain": [
       "         meanF0    stdevF0        hnr  localJitter  localabsoluteJitter  \\\n",
       "0    159.115991  90.317937   3.930253     0.017451             0.000114   \n",
       "1    129.732058  46.425490  11.773814     0.028977             0.000226   \n",
       "2    163.427566  83.990485   3.922896     0.018924             0.000120   \n",
       "3    235.537851  66.925613  15.218010     0.022878             0.000098   \n",
       "4    125.849238  48.231114  13.037746     0.034310             0.000276   \n",
       "..          ...        ...        ...          ...                  ...   \n",
       "196  157.865020  53.341399   8.418544     0.025371             0.000161   \n",
       "197  256.159708  86.835383  12.550197     0.028736             0.000114   \n",
       "198  109.195261  25.952571  12.053265     0.032655             0.000300   \n",
       "199  134.616712  38.706905  10.730626     0.018399             0.000137   \n",
       "200  177.694494  99.357806   3.942794     0.020172             0.000120   \n",
       "\n",
       "     rapJitter  ppq5Jitter  ddpJitter  localShimmer  localdbShimmer  \\\n",
       "0     0.007141    0.008345   0.021422      0.143444        1.286655   \n",
       "1     0.010774    0.012563   0.032322      0.101769        0.962262   \n",
       "2     0.007710    0.008877   0.023129      0.159257        1.418600   \n",
       "3     0.009476    0.010311   0.028429      0.087603        0.864116   \n",
       "4     0.013424    0.013310   0.040271      0.091310        0.861513   \n",
       "..         ...         ...        ...           ...             ...   \n",
       "196   0.011912    0.013344   0.035735      0.146225        1.351733   \n",
       "197   0.013565    0.012467   0.040696      0.142917        1.342853   \n",
       "198   0.013546    0.015358   0.040639      0.123946        1.143286   \n",
       "199   0.007975    0.009592   0.023924      0.121832        1.162498   \n",
       "200   0.008697    0.010025   0.026091      0.183656        1.569627   \n",
       "\n",
       "     apq3Shimmer  apq5Shimmer  apq11Shimmer  ddaShimmer  \n",
       "0       0.074305     0.076339      0.108201    0.222915  \n",
       "1       0.032754     0.051533      0.106229    0.098262  \n",
       "2       0.082433     0.089105      0.117887    0.247300  \n",
       "3       0.027535     0.043341      0.087738    0.082605  \n",
       "4       0.029472     0.044587      0.083962    0.088416  \n",
       "..           ...          ...           ...         ...  \n",
       "196     0.060600     0.086115      0.149012    0.181799  \n",
       "197     0.063401     0.091960      0.155509    0.190204  \n",
       "198     0.049693     0.072229      0.124038    0.149080  \n",
       "199     0.046746     0.070983      0.128618    0.140238  \n",
       "200     0.102963     0.112280      0.149872    0.308889  \n",
       "\n",
       "[201 rows x 14 columns]"
      ]
     },
     "execution_count": 8,
     "metadata": {},
     "output_type": "execute_result"
    }
   ],
   "source": [
    "data"
   ]
  },
  {
   "cell_type": "code",
   "execution_count": 12,
   "metadata": {},
   "outputs": [
    {
     "data": {
      "image/png": "[encoded data removed]",
      "text/plain": [
       "<Figure size 640x480 with 4 Axes>"
      ]
     },
     "metadata": {},
     "output_type": "display_data"
    }
   ],
   "source": [
    "hist = data.hist(bins=20, column=[\"meanF0\", \"hnr\", \"localabsoluteJitter\"])"
   ]
  },
  {
   "cell_type": "code",
   "execution_count": 14,
   "metadata": {},
   "outputs": [],
   "source": [
    "hnr_db = [20 * math.log(x, 10) for x in data.hnr]\n",
    "jitter_abs_db = [20 * math.log(x, 10) for x in data.hnr]"
   ]
  },
  {
   "cell_type": "code",
   "execution_count": 15,
   "metadata": {},
   "outputs": [
    {
     "data": {
      "text/plain": [
       "(array([ 6.,  6.,  7.,  1.,  6.,  2.,  2., 12., 12., 10., 11., 18., 19.,\n",
       "        13., 18., 25., 12.,  5., 10.,  6.]),\n",
       " array([10.4079378 , 11.12648107, 11.84502433, 12.5635676 , 13.28211086,\n",
       "        14.00065413, 14.71919739, 15.43774066, 16.15628393, 16.87482719,\n",
       "        17.59337046, 18.31191372, 19.03045699, 19.74900025, 20.46754352,\n",
       "        21.18608678, 21.90463005, 22.62317331, 23.34171658, 24.06025984,\n",
       "        24.77880311]),\n",
       " <BarContainer object of 20 artists>)"
      ]
     },
     "execution_count": 15,
     "metadata": {},
     "output_type": "execute_result"
    },
    {
     "data": {
      "image/png": "[encoded data removed]",
      "text/plain": [
       "<Figure size 640x480 with 1 Axes>"
      ]
     },
     "metadata": {},
     "output_type": "display_data"
    }
   ],
   "source": [
    "matplotlib.pyplot.hist(hnr_db, bins=20)"
   ]
  },
  {
   "cell_type": "code",
   "execution_count": 16,
   "metadata": {},
   "outputs": [
    {
     "data": {
      "text/plain": [
       "(array([ 6.,  6.,  7.,  1.,  6.,  2.,  2., 12., 12., 10., 11., 18., 19.,\n",
       "        13., 18., 25., 12.,  5., 10.,  6.]),\n",
       " array([10.4079378 , 11.12648107, 11.84502433, 12.5635676 , 13.28211086,\n",
       "        14.00065413, 14.71919739, 15.43774066, 16.15628393, 16.87482719,\n",
       "        17.59337046, 18.31191372, 19.03045699, 19.74900025, 20.46754352,\n",
       "        21.18608678, 21.90463005, 22.62317331, 23.34171658, 24.06025984,\n",
       "        24.77880311]),\n",
       " <BarContainer object of 20 artists>)"
      ]
     },
     "execution_count": 16,
     "metadata": {},
     "output_type": "execute_result"
    },
    {
     "data": {
      "image/png": "[encoded data removed]",
      "text/plain": [
       "<Figure size 640x480 with 1 Axes>"
      ]
     },
     "metadata": {},
     "output_type": "display_data"
    }
   ],
   "source": [
    "matplotlib.pyplot.hist(jitter_abs_db, bins=20)"
   ]
  }
 ],
 "metadata": {
  "kernelspec": {
   "display_name": "Python 3.8.10 ('.venv': venv)",
   "language": "python",
   "name": "python3"
  },
  "language_info": {
   "codemirror_mode": {
    "name": "ipython",
    "version": 3
   },
   "file_extension": ".py",
   "mimetype": "text/x-python",
   "name": "python",
   "nbconvert_exporter": "python",
   "pygments_lexer": "ipython3",
   "version": "3.8.10"
  },
  "orig_nbformat": 4,
  "vscode": {
   "interpreter": {
    "hash": "66144efe40af1c30123fc1084ea8dab83674c334c67eb5c8dab0642d72c1718d"
   }
  }
 },
 "nbformat": 4,
 "nbformat_minor": 2
}
