{
 "cells": [
  {
   "cell_type": "code",
   "execution_count": null,
   "metadata": {},
   "outputs": [],
   "source": [
    "import pandas as pd\n",
    "import numbers\n",
    "import glob\n",
    "import traceback"
   ]
  },
  {
   "cell_type": "code",
   "execution_count": null,
   "metadata": {},
   "outputs": [],
   "source": [
    "def weighted_average(speech_df_og: pd.DataFrame):\n",
    "    speech_df = speech_df_og.dropna()\n",
    "    # speech_df.drop(speech_df[speech_df[\"duration\"] < 0.2].index, inplace=True)\n",
    "    speech_df.reset_index(drop=True, inplace=True)\n",
    "    if speech_df.isna().sum().sum() > 0:\n",
    "        print(\"OOPS\")\n",
    "        assert(False)\n",
    "    if speech_df.shape[0] < 1 or speech_df.shape[1] != 17:\n",
    "        print(\"--------------------------------------\")\n",
    "        print(\"PROBLEM WITH SHAPE!\")\n",
    "        print(speech_df[\"filename\"])\n",
    "        print(f\"{speech_df.shape}\")\n",
    "        print(\"--------------------------------------\")\n",
    "\n",
    "    durations = list(speech_df.duration.values)\n",
    "    # remove null and NaN values if they exist\n",
    "    # num_na = speech_df.isna().sum().sum()\n",
    "    # if  num_na> 0:\n",
    "    #     print(f\"{speech_df['filename'][0]} has {num_na} NaN values\")\n",
    "    #     speech_df.drop(speech_df.tail(1).index,inplace=True) # drop last row\n",
    "    #     # if there are still na values, panic\n",
    "    #     # if speech_df.isna().sum().sum() > 0:\n",
    "    #     #     print(f\"ERROR: There are still na values in df from {speech_df['filename'][0]}\")\n",
    "        \n",
    "\n",
    "    average_dict = {}\n",
    "    average_dict[\"filename\"] = speech_df[\"filename\"][0]\n",
    "    total_duration: float = sum(speech_df[\"duration\"])\n",
    "    average_dict[\"duration\"] = total_duration\n",
    "    \n",
    "    for (columnName, columnData) in speech_df.items():\n",
    "        if (columnName == \"filename\" or columnName == \"start\" or columnName == \"duration\"):\n",
    "            continue\n",
    "        \n",
    "        weighted_sum = 0.0\n",
    "        for i, value in enumerate(columnData.values):\n",
    "            if not isinstance(value, numbers.Number):\n",
    "                print(f\"Column '{columnName}' contains non-numeric value {value}\")\n",
    "                break\n",
    "\n",
    "            weighted_sum +=  value * durations[i]\n",
    "\n",
    "        weighted_average = weighted_sum/total_duration\n",
    "        average_dict[columnName] = weighted_average\n",
    "\n",
    "    average_df_columns = speech_df.columns.drop([\"start\"])\n",
    "    average_df = pd.DataFrame(data=average_dict, columns=average_df_columns, index=[0])\n",
    "    return average_df\n",
    "\n",
    "\n"
   ]
  },
  {
   "cell_type": "code",
   "execution_count": null,
   "metadata": {},
   "outputs": [],
   "source": [
    "average_dfs = []\n",
    "for csv_file in sorted(glob.glob(\"../results/pjs-ted/*.csv\")):\n",
    "    speech_df = pd.read_csv(csv_file)\n",
    "    try:\n",
    "        average_df = weighted_average(speech_df)\n",
    "        average_dfs.append(average_df)\n",
    "    except:\n",
    "        print(csv_file)\n",
    "        traceback.print_exc()\n",
    "    \n",
    "    \n",
    "    \n",
    "combined_df = pd.concat(average_dfs, ignore_index=True)\n",
    "\n",
    "# check no null values\n",
    "if combined_df.isna().sum().sum() > 0:\n",
    "    print(\"NULL VALUES IN COMBINED DF\")\n",
    "    \n",
    "\n",
    "combined_df.to_csv(\"../pjs-combined.csv\")\n",
    "combined_df.head()"
   ]
  }
 ],
 "metadata": {
  "kernelspec": {
   "display_name": "Python 3.8.10 ('.venv': venv)",
   "language": "python",
   "name": "python3"
  },
  "language_info": {
   "codemirror_mode": {
    "name": "ipython",
    "version": 3
   },
   "file_extension": ".py",
   "mimetype": "text/x-python",
   "name": "python",
   "nbconvert_exporter": "python",
   "pygments_lexer": "ipython3",
   "version": "3.8.10"
  },
  "orig_nbformat": 4,
  "vscode": {
   "interpreter": {
    "hash": "66144efe40af1c30123fc1084ea8dab83674c334c67eb5c8dab0642d72c1718d"
   }
  }
 },
 "nbformat": 4,
 "nbformat_minor": 2
}
