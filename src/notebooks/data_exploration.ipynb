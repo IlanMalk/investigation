{
 "cells": [
  {
   "cell_type": "code",
   "execution_count": null,
   "metadata": {},
   "outputs": [],
   "source": [
    "import csv\n",
    "import pandas as pd\n",
    "from scipy import stats\n",
    "import matplotlib.pyplot as plt\n",
    "import math\n",
    "from numpy import mean"
   ]
  },
  {
   "cell_type": "code",
   "execution_count": null,
   "metadata": {},
   "outputs": [],
   "source": [
    "vader='../../vader_full.csv'\n",
    "pjs='../../pitch_jitter_shimmer_cluster.csv'\n"
   ]
  },
  {
   "cell_type": "code",
   "execution_count": null,
   "metadata": {},
   "outputs": [],
   "source": [
    "\n",
    "file = open(pjs)\n",
    "type(file)\n",
    "print('A')\n",
    "csvreader = csv.reader(file)\n",
    "\n",
    "header = []\n",
    "header = next(csvreader)\n",
    "#print(header)\n",
    "print('B')\n",
    "\n",
    "rows = []\n",
    "for row in csvreader:\n",
    "        rows.append(row)\n",
    "#print(rows)\n",
    "\n",
    "data=pd.read_csv(pjs)\n",
    "\n",
    "f0=data.meanF0.tolist()"
   ]
  },
  {
   "cell_type": "code",
   "execution_count": null,
   "metadata": {},
   "outputs": [],
   "source": [
    "data"
   ]
  },
  {
   "cell_type": "code",
   "execution_count": null,
   "metadata": {},
   "outputs": [],
   "source": [
    "hist = data.hist(bins=20, column=[\"meanF0\", \"hnr\"])"
   ]
  },
  {
   "cell_type": "code",
   "execution_count": null,
   "metadata": {},
   "outputs": [],
   "source": [
    "hist = data.hist(bins=20, column=[\"localabsoluteJitter\"])"
   ]
  },
  {
   "cell_type": "code",
   "execution_count": null,
   "metadata": {},
   "outputs": [],
   "source": [
    "hnr_db = [20 * math.log(x, 10) for x in data.hnr]\n",
    "jitter_abs_db = [20 * math.log(x, 10) for x in data.hnr]"
   ]
  },
  {
   "cell_type": "code",
   "execution_count": null,
   "metadata": {},
   "outputs": [],
   "source": [
    "hnr_db_plot = plt.hist(hnr_db, bins=20);\n",
    "plt.title(\"HNR (db)\");"
   ]
  },
  {
   "cell_type": "code",
   "execution_count": null,
   "metadata": {},
   "outputs": [],
   "source": [
    "plt.hist(jitter_abs_db, bins=20);\n",
    "plt.title(\"Local Abs Jitter (dB)\");"
   ]
  },
  {
   "cell_type": "code",
   "execution_count": null,
   "metadata": {},
   "outputs": [],
   "source": [
    "hnr_db_t_test = stats.ttest_1samp(hnr_db, popmean=19)\n",
    "hnr_db_t_test"
   ]
  },
  {
   "cell_type": "code",
   "execution_count": null,
   "metadata": {},
   "outputs": [],
   "source": [
    "print(hnr_db_t_test)"
   ]
  },
  {
   "cell_type": "code",
   "execution_count": null,
   "metadata": {},
   "outputs": [],
   "source": [
    "# VADER\n",
    "vader_debates = pd.read_csv(\"../../results/vader-debates.csv\")\n",
    "vader_ted = pd.read_csv(\"../../results/vaderTED.csv\").loc[:200]\n"
   ]
  },
  {
   "cell_type": "code",
   "execution_count": null,
   "metadata": {},
   "outputs": [],
   "source": [
    "plt.hist(vader_debates.compound, density=True, bins=20);\n",
    "plt.hist(vader_ted.compound, density=True, bins=20);\n"
   ]
  },
  {
   "cell_type": "code",
   "execution_count": null,
   "metadata": {},
   "outputs": [],
   "source": []
  },
  {
   "cell_type": "code",
   "execution_count": null,
   "metadata": {},
   "outputs": [],
   "source": [
    "vader_debates.shape"
   ]
  },
  {
   "cell_type": "code",
   "execution_count": null,
   "metadata": {},
   "outputs": [],
   "source": [
    "vader_ted.shape"
   ]
  },
  {
   "cell_type": "code",
   "execution_count": null,
   "metadata": {},
   "outputs": [],
   "source": [
    "vader_debates_2000 = vader_debates.head(2000)"
   ]
  },
  {
   "cell_type": "code",
   "execution_count": null,
   "metadata": {},
   "outputs": [],
   "source": [
    "plt.hist(vader_debates_2000.compound, bins=20);\n",
    "plt.hist(vader_ted.compound);"
   ]
  },
  {
   "cell_type": "code",
   "execution_count": null,
   "metadata": {},
   "outputs": [],
   "source": [
    "mean(vader_debates.compound)\n"
   ]
  },
  {
   "cell_type": "code",
   "execution_count": null,
   "metadata": {},
   "outputs": [],
   "source": [
    "mean(vader_ted.compound)"
   ]
  },
  {
   "cell_type": "code",
   "execution_count": null,
   "metadata": {},
   "outputs": [],
   "source": [
    "plt.hist(vader_debates.pos, density=True);\n",
    "# plt.hist(vader_ted.pos, density=True)\n"
   ]
  },
  {
   "cell_type": "code",
   "execution_count": null,
   "metadata": {},
   "outputs": [],
   "source": [
    "# what comes first is green\n",
    "plt.hist(vader_debates.pos, density=True);\n",
    "plt.hist(vader_ted.pos, density=True)\n"
   ]
  },
  {
   "cell_type": "code",
   "execution_count": null,
   "metadata": {},
   "outputs": [],
   "source": [
    "# what comes first is green\n",
    "plt.hist(vader_debates.neu, density=True);\n",
    "plt.hist(vader_ted.neu, density=True)\n"
   ]
  },
  {
   "cell_type": "code",
   "execution_count": null,
   "metadata": {},
   "outputs": [],
   "source": [
    "# what comes first is green\n",
    "plt.hist(vader_debates.neg, density=True);\n",
    "plt.hist(vader_ted.neg, density=True)\n"
   ]
  },
  {
   "cell_type": "code",
   "execution_count": null,
   "metadata": {},
   "outputs": [],
   "source": [
    "pos_mean_debates = mean(vader_debates.pos)\n",
    "neu_mean_debates = mean(vader_debates.neu)\n",
    "neg_mean_debates = mean(vader_debates.neg)\n",
    "compound_mean_debates = mean(vader_debates.compound)\n",
    "\n",
    "\n",
    "pos_mean_ted = mean(vader_ted.pos)\n",
    "neu_mean_ted = mean(vader_ted.neu)\n",
    "neg_mean_ted = mean(vader_ted.neg)\n",
    "compound_mean_ted = mean(vader_ted.compound)\n",
    "\n",
    "mean_df = pd.DataFrame([\n",
    "    {\"format\": \"debating\", \"pos\": pos_mean_debates, \"neu\": neu_mean_debates, \"neg\": neg_mean_debates, \"compound\": compound_mean_debates},\n",
    "    {\"format\": \"ted\", \"pos\": pos_mean_ted, \"neu\": neu_mean_ted, \"neg\": neg_mean_ted, \"compound\": compound_mean_ted}\n",
    "    ])"
   ]
  },
  {
   "cell_type": "code",
   "execution_count": null,
   "metadata": {},
   "outputs": [],
   "source": [
    "mean_df"
   ]
  },
  {
   "cell_type": "code",
   "execution_count": null,
   "metadata": {},
   "outputs": [],
   "source": [
    "welch_compound = stats.ttest_ind(vader_debates.compound, vader_ted.compound, equal_var=False)\n",
    "welch_compound"
   ]
  },
  {
   "cell_type": "code",
   "execution_count": null,
   "metadata": {},
   "outputs": [],
   "source": [
    "import seaborn as sns\n",
    "\n",
    "vader_debates['debateOrTed'] = \"debate\"\n",
    "vader_ted['debateOrTed'] = \"ted\"\n",
    "vader_combined = pd.concat([vader_ted, vader_debates], ignore_index=True)\n",
    "# iris = sns.load_dataset('iris')\n",
    "sns.scatterplot(x='pos',y='neg',data=vader_combined,hue='debateOrTed', palette=['dodgerblue', 'red'])\n",
    "\n",
    "plt.show()"
   ]
  },
  {
   "cell_type": "code",
   "execution_count": null,
   "metadata": {},
   "outputs": [],
   "source": []
  }
 ],
 "metadata": {
  "kernelspec": {
   "display_name": "Python 3 (ipykernel)",
   "language": "python",
   "name": "python3"
  },
  "language_info": {
   "codemirror_mode": {
    "name": "ipython",
    "version": 3
   },
   "file_extension": ".py",
   "mimetype": "text/x-python",
   "name": "python",
   "nbconvert_exporter": "python",
   "pygments_lexer": "ipython3",
   "version": "3.8.10"
  },
  "vscode": {
   "interpreter": {
    "hash": "66144efe40af1c30123fc1084ea8dab83674c334c67eb5c8dab0642d72c1718d"
   }
  }
 },
 "nbformat": 4,
 "nbformat_minor": 2
}
