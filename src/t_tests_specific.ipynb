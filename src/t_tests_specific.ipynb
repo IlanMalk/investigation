{
 "cells": [
  {
   "cell_type": "code",
   "execution_count": null,
   "metadata": {},
   "outputs": [],
   "source": [
    "%load_ext autoreload\n",
    "%autoreload 2"
   ]
  },
  {
   "cell_type": "code",
   "execution_count": null,
   "metadata": {},
   "outputs": [],
   "source": [
    "# imports\n",
    "import pandas as pd\n",
    "\n",
    "from t_test_generalised import t_test_dataframes\n",
    "from gender_join import gender_join\n"
   ]
  },
  {
   "cell_type": "code",
   "execution_count": null,
   "metadata": {},
   "outputs": [],
   "source": [
    "pjs_debates_gender = pd.read_csv(\"../results/pjs-debates-grouped-gender.csv\")\n",
    "pjs_ted_gender = pd.read_csv(\"../results/pjs-ted-grouped-gender.csv\")"
   ]
  },
  {
   "cell_type": "code",
   "execution_count": null,
   "metadata": {},
   "outputs": [],
   "source": [
    "pjs_debates_male = pjs_debates_gender[pjs_debates_gender[\"gender\"] == \"M\"]\n",
    "pjs_debates_female = pjs_debates_gender[pjs_debates_gender[\"gender\"] == \"F\"]\n",
    "pjs_ted_male = pjs_ted_gender[pjs_ted_gender[\"gender\"] == \"M\"]\n",
    "pjs_ted_female = pjs_ted_gender[pjs_ted_gender[\"gender\"] == \"F\"]\n"
   ]
  },
  {
   "cell_type": "code",
   "execution_count": null,
   "metadata": {},
   "outputs": [],
   "source": [
    "welch_male = t_test_dataframes(pjs_debates_male, pjs_ted_male, columns_to_avoid=[\"speaker\", \"gender\", \"filename\"])\n",
    "print(welch_male)"
   ]
  },
  {
   "cell_type": "code",
   "execution_count": null,
   "metadata": {},
   "outputs": [],
   "source": [
    "welch_female = t_test_dataframes(pjs_debates_female, pjs_ted_female, columns_to_avoid=[\"speaker\", \"gender\", \"filename\"])\n",
    "print(welch_female)"
   ]
  },
  {
   "cell_type": "code",
   "execution_count": null,
   "metadata": {},
   "outputs": [],
   "source": [
    "# pjs_debates_grouped = pd.read_csv(\"../results/pjs-debates-grouped-speaker.csv\")\n",
    "# debates_gender = pd.read_csv(\"../results/debates-gender.csv\")\n",
    "# pjs_debates_grouped_gender = gender_join(feature_df=pjs_debates_grouped, gender_df=debates_gender)\n",
    "# pjs_debates_grouped_gender.to_csv(\"../results/pjs-debates-grouped-gender.csv\", index=False)\n",
    "\n",
    "# pjs_ted_grouped = pd.read_csv(\"../results/pjs-ted-grouped-speaker.csv\")\n",
    "# ted_gender = pd.read_csv(\"../results/ted-gender.csv\")\n",
    "# pjs_ted_grouped_gender = gender_join(feature_df=pjs_ted_grouped, gender_df=ted_gender, on=\"speaker\")\n",
    "# pjs_ted_grouped_gender.to_csv(\"../results/pjs-ted-grouped-gender.csv\", index=False)\n"
   ]
  }
 ],
 "metadata": {
  "kernelspec": {
   "display_name": "Python 3.8.10 ('.venv': venv)",
   "language": "python",
   "name": "python3"
  },
  "language_info": {
   "codemirror_mode": {
    "name": "ipython",
    "version": 3
   },
   "file_extension": ".py",
   "mimetype": "text/x-python",
   "name": "python",
   "nbconvert_exporter": "python",
   "pygments_lexer": "ipython3",
   "version": "3.8.10"
  },
  "orig_nbformat": 4,
  "vscode": {
   "interpreter": {
    "hash": "66144efe40af1c30123fc1084ea8dab83674c334c67eb5c8dab0642d72c1718d"
   }
  }
 },
 "nbformat": 4,
 "nbformat_minor": 2
}
