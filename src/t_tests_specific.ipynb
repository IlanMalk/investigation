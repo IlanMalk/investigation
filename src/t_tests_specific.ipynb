{
 "cells": [
  {
   "cell_type": "code",
   "execution_count": null,
   "metadata": {},
   "outputs": [],
   "source": [
    "%load_ext autoreload\n",
    "%autoreload 2"
   ]
  },
  {
   "cell_type": "code",
   "execution_count": 1,
   "metadata": {},
   "outputs": [],
   "source": [
    "# imports\n",
    "import pandas as pd\n",
    "import os\n",
    "import glob\n",
    "\n",
    "from t_test_generalised import t_test_dataframes\n",
    "from gender_join import gender_join\n",
    "from group_by_speaker import group_by_speaker\n"
   ]
  },
  {
   "cell_type": "markdown",
   "metadata": {},
   "source": [
    "# Pitch Jitter Shimmer (Voice Quality)"
   ]
  },
  {
   "cell_type": "code",
   "execution_count": null,
   "metadata": {},
   "outputs": [],
   "source": [
    "# read feature files (containing gender)\n",
    "pjs_debates_gender = pd.read_csv(\"../results/pjs-debates-grouped-gender-mono.csv\")\n",
    "pjs_ted_gender = pd.read_csv(\"../results/pjs-ted-grouped-gender.csv\")"
   ]
  },
  {
   "cell_type": "code",
   "execution_count": null,
   "metadata": {},
   "outputs": [],
   "source": [
    "# split into male and female\n",
    "pjs_debates_male = pjs_debates_gender[pjs_debates_gender[\"gender\"] == \"M\"]\n",
    "pjs_debates_female = pjs_debates_gender[pjs_debates_gender[\"gender\"] == \"F\"]\n",
    "pjs_ted_male = pjs_ted_gender[pjs_ted_gender[\"gender\"] == \"M\"]\n",
    "pjs_ted_female = pjs_ted_gender[pjs_ted_gender[\"gender\"] == \"F\"]\n"
   ]
  },
  {
   "cell_type": "code",
   "execution_count": null,
   "metadata": {},
   "outputs": [],
   "source": [
    "# welch test male\n",
    "welch_male = t_test_dataframes(pjs_debates_male, pjs_ted_male, columns_to_avoid=[\"speaker\", \"gender\", \"filename\"])\n",
    "print(welch_male)\n",
    "welch_male.to_csv(\"../results/welch-mono-male.csv\", index=False)"
   ]
  },
  {
   "cell_type": "code",
   "execution_count": null,
   "metadata": {},
   "outputs": [],
   "source": [
    "# welch test female\n",
    "welch_female = t_test_dataframes(pjs_debates_female, pjs_ted_female, columns_to_avoid=[\"speaker\", \"gender\", \"filename\"])\n",
    "print(welch_female)\n",
    "welch_female.to_csv(\"../results/welch-mono-female.csv\", index=False)"
   ]
  },
  {
   "cell_type": "code",
   "execution_count": null,
   "metadata": {},
   "outputs": [],
   "source": [
    "pjs_debates_grouped = pd.read_csv(\"../results/pjs-debates-grouped-speaker-mono.csv\")\n",
    "debates_gender = pd.read_csv(\"../results/debates-gender.csv\")\n",
    "pjs_debates_grouped_gender = gender_join(feature_df=pjs_debates_grouped, gender_df=debates_gender)\n",
    "pjs_debates_grouped_gender.to_csv(\"../results/pjs-debates-grouped-gender-mono.csv\", index=False)\n"
   ]
  },
  {
   "cell_type": "code",
   "execution_count": null,
   "metadata": {},
   "outputs": [],
   "source": [
    "\n",
    "pjs_ted_grouped = pd.read_csv(\"../results/pjs-ted-grouped-speaker.csv\")\n",
    "ted_gender = pd.read_csv(\"../results/ted-gender.csv\")\n",
    "pjs_ted_grouped_gender = gender_join(feature_df=pjs_ted_grouped, gender_df=ted_gender, on=\"speaker\")\n",
    "pjs_ted_grouped_gender.to_csv(\"../results/pjs-ted-grouped-gender.csv\", index=False)\n"
   ]
  },
  {
   "cell_type": "markdown",
   "metadata": {},
   "source": [
    "# Prosodic"
   ]
  },
  {
   "cell_type": "code",
   "execution_count": null,
   "metadata": {},
   "outputs": [],
   "source": [
    "prosodic_debates = pd.read_csv(\"../results/DebateProsodicAll.csv\")\n",
    "prosodic_debates_grouped = group_by_speaker(prosodic_debates)\n",
    "print(prosodic_debates_grouped)\n",
    "prosodic_debates_grouped.to_csv(\"../results/DebateProsodicGrouped.csv\", index=False)\n",
    "\n",
    "prosodic_ted = pd.read_csv(\"../results/TedProsodicAll.csv\")\n",
    "prosodic_ted_grouped = group_by_speaker(prosodic_ted)\n",
    "print(prosodic_ted_grouped)\n",
    "prosodic_ted_grouped.to_csv(\"../results/TedProsodicGrouped.csv\", index=False)"
   ]
  },
  {
   "cell_type": "code",
   "execution_count": null,
   "metadata": {},
   "outputs": [],
   "source": [
    "prosodic_debates_grouped = pd.read_csv(\"../results/DebateProsodicGrouped.csv\")\n",
    "debates_gender = pd.read_csv(\"../results/debates-gender.csv\")\n",
    "prosodic_debates_grouped_gender = gender_join(feature_df=prosodic_debates_grouped, gender_df=debates_gender)\n",
    "prosodic_debates_grouped_gender.to_csv(\"../results/DebatesProsodicGroupedGender.csv\", index=False)"
   ]
  },
  {
   "cell_type": "code",
   "execution_count": null,
   "metadata": {},
   "outputs": [],
   "source": [
    "prosodic_ted_grouped = pd.read_csv(\"../results/TedProsodicGrouped.csv\")\n",
    "ted_gender = pd.read_csv(\"../results/ted-gender.csv\")\n",
    "prosodic_ted_grouped_gender = gender_join(feature_df=prosodic_ted_grouped, gender_df=ted_gender, on=\"speaker\")\n",
    "prosodic_ted_grouped_gender.drop(columns=[\"filename\"], inplace=True)\n",
    "prosodic_ted_grouped_gender.to_csv(\"../results/TedProsodicGroupedGender.csv\", index=False)"
   ]
  },
  {
   "cell_type": "code",
   "execution_count": null,
   "metadata": {},
   "outputs": [],
   "source": [
    "prosodic_debates_grouped = pd.read_csv(\"../results/DebateProsodicGrouped.csv\")\n",
    "prosodic_ted_grouped = pd.read_csv(\"../results/TedProsodicGrouped.csv\")\n",
    "welch_prosodic = t_test_dataframes(prosodic_debates_grouped, prosodic_ted_grouped, columns_to_avoid=[\"speaker\", \"gender\", \"filename\"])\n",
    "welch_prosodic.to_csv(\"../results/welch-prosodic.csv\")"
   ]
  },
  {
   "cell_type": "code",
   "execution_count": null,
   "metadata": {},
   "outputs": [],
   "source": [
    "def group_mono_files_by_speaker():\n",
    "    csv_str = os.path.join(os.pardir, \"results\", \"pjs-debates-16-mono\", \"*.csv\")\n",
    "    csvs = glob.glob(csv_str)\n",
    "    speech_dfs = [pd.read_csv(csv) for csv in csvs]\n",
    "    # feature_df = pd.read_csv(\"../pitch_jitter_shimmer.csv\")\n",
    "    feature_df = pd.concat(speech_dfs, ignore_index=True)\n",
    "    grouped = group_by_speaker(feature_df)\n",
    "    print(grouped)\n",
    "    grouped.to_csv(\"../pjs-debates-grouped-speaker-mono.csv\", index=False)"
   ]
  },
  {
   "cell_type": "code",
   "execution_count": 3,
   "metadata": {},
   "outputs": [],
   "source": [
    "vader_debates_grouped = pd.read_csv(\"../results/vader-debates-grouped-speaker.csv\")\n",
    "vader_ted_grouped = pd.read_csv(\"../results/vader-ted-grouped-speaker.csv\")"
   ]
  },
  {
   "cell_type": "code",
   "execution_count": null,
   "metadata": {},
   "outputs": [],
   "source": [
    "welch_vader_grouped = t_test_dataframes(vader_debates_grouped, vader_ted_grouped, columns_to_avoid=[\"speaker\"])\n",
    "welch_vader_grouped.to_csv(\"../results/welch-vader.csv\")\n"
   ]
  },
  {
   "cell_type": "markdown",
   "metadata": {},
   "source": []
  }
 ],
 "metadata": {
  "kernelspec": {
   "display_name": "Python 3.9.10 64-bit",
   "language": "python",
   "name": "python3"
  },
  "language_info": {
   "codemirror_mode": {
    "name": "ipython",
    "version": 3
   },
   "file_extension": ".py",
   "mimetype": "text/x-python",
   "name": "python",
   "nbconvert_exporter": "python",
   "pygments_lexer": "ipython3",
   "version": "3.9.10"
  },
  "orig_nbformat": 4,
  "vscode": {
   "interpreter": {
    "hash": "b1265eac18663ec3eb9dd88825d6cad72ce79fdeead93d8c42bbee581cdd1556"
   }
  }
 },
 "nbformat": 4,
 "nbformat_minor": 2
}
